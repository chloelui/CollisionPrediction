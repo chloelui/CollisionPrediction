{
  "nbformat": 4,
  "nbformat_minor": 0,
  "metadata": {
    "colab": {
      "provenance": []
    },
    "kernelspec": {
      "name": "python3",
      "display_name": "Python 3"
    },
    "language_info": {
      "name": "python"
    }
  },
  "cells": [
    {
      "cell_type": "code",
      "execution_count": null,
      "metadata": {
        "colab": {
          "base_uri": "https://localhost:8080/"
        },
        "collapsed": true,
        "id": "s6ReyELsrIAq",
        "outputId": "b060ab05-3140-4ee7-80fa-22832e3b6c05"
      },
      "outputs": [
        {
          "output_type": "stream",
          "name": "stdout",
          "text": [
            "Collecting skyfield\n",
            "  Downloading skyfield-1.49-py3-none-any.whl.metadata (2.4 kB)\n",
            "Collecting pgmpy\n",
            "  Downloading pgmpy-0.1.26-py3-none-any.whl.metadata (9.1 kB)\n",
            "Requirement already satisfied: numpy in /usr/local/lib/python3.11/dist-packages (1.26.4)\n",
            "Requirement already satisfied: certifi>=2017.4.17 in /usr/local/lib/python3.11/dist-packages (from skyfield) (2024.12.14)\n",
            "Collecting jplephem>=2.13 (from skyfield)\n",
            "  Downloading jplephem-2.22-py3-none-any.whl.metadata (22 kB)\n",
            "Collecting sgp4>=2.2 (from skyfield)\n",
            "  Downloading sgp4-2.23-cp311-cp311-manylinux_2_5_x86_64.manylinux1_x86_64.manylinux_2_17_x86_64.manylinux2014_x86_64.whl.metadata (31 kB)\n",
            "Requirement already satisfied: networkx in /usr/local/lib/python3.11/dist-packages (from pgmpy) (3.4.2)\n",
            "Requirement already satisfied: scipy in /usr/local/lib/python3.11/dist-packages (from pgmpy) (1.13.1)\n",
            "Requirement already satisfied: scikit-learn in /usr/local/lib/python3.11/dist-packages (from pgmpy) (1.6.0)\n",
            "Requirement already satisfied: pandas in /usr/local/lib/python3.11/dist-packages (from pgmpy) (2.2.2)\n",
            "Requirement already satisfied: pyparsing in /usr/local/lib/python3.11/dist-packages (from pgmpy) (3.2.1)\n",
            "Requirement already satisfied: torch in /usr/local/lib/python3.11/dist-packages (from pgmpy) (2.5.1+cu121)\n",
            "Requirement already satisfied: statsmodels in /usr/local/lib/python3.11/dist-packages (from pgmpy) (0.14.4)\n",
            "Requirement already satisfied: tqdm in /usr/local/lib/python3.11/dist-packages (from pgmpy) (4.67.1)\n",
            "Requirement already satisfied: joblib in /usr/local/lib/python3.11/dist-packages (from pgmpy) (1.4.2)\n",
            "Requirement already satisfied: opt-einsum in /usr/local/lib/python3.11/dist-packages (from pgmpy) (3.4.0)\n",
            "Requirement already satisfied: xgboost in /usr/local/lib/python3.11/dist-packages (from pgmpy) (2.1.3)\n",
            "Requirement already satisfied: google-generativeai in /usr/local/lib/python3.11/dist-packages (from pgmpy) (0.8.3)\n",
            "Requirement already satisfied: google-ai-generativelanguage==0.6.10 in /usr/local/lib/python3.11/dist-packages (from google-generativeai->pgmpy) (0.6.10)\n",
            "Requirement already satisfied: google-api-core in /usr/local/lib/python3.11/dist-packages (from google-generativeai->pgmpy) (2.19.2)\n",
            "Requirement already satisfied: google-api-python-client in /usr/local/lib/python3.11/dist-packages (from google-generativeai->pgmpy) (2.155.0)\n",
            "Requirement already satisfied: google-auth>=2.15.0 in /usr/local/lib/python3.11/dist-packages (from google-generativeai->pgmpy) (2.27.0)\n",
            "Requirement already satisfied: protobuf in /usr/local/lib/python3.11/dist-packages (from google-generativeai->pgmpy) (4.25.5)\n",
            "Requirement already satisfied: pydantic in /usr/local/lib/python3.11/dist-packages (from google-generativeai->pgmpy) (2.10.5)\n",
            "Requirement already satisfied: typing-extensions in /usr/local/lib/python3.11/dist-packages (from google-generativeai->pgmpy) (4.12.2)\n",
            "Requirement already satisfied: proto-plus<2.0.0dev,>=1.22.3 in /usr/local/lib/python3.11/dist-packages (from google-ai-generativelanguage==0.6.10->google-generativeai->pgmpy) (1.25.0)\n",
            "Requirement already satisfied: python-dateutil>=2.8.2 in /usr/local/lib/python3.11/dist-packages (from pandas->pgmpy) (2.8.2)\n",
            "Requirement already satisfied: pytz>=2020.1 in /usr/local/lib/python3.11/dist-packages (from pandas->pgmpy) (2024.2)\n",
            "Requirement already satisfied: tzdata>=2022.7 in /usr/local/lib/python3.11/dist-packages (from pandas->pgmpy) (2024.2)\n",
            "Requirement already satisfied: threadpoolctl>=3.1.0 in /usr/local/lib/python3.11/dist-packages (from scikit-learn->pgmpy) (3.5.0)\n",
            "Requirement already satisfied: patsy>=0.5.6 in /usr/local/lib/python3.11/dist-packages (from statsmodels->pgmpy) (1.0.1)\n",
            "Requirement already satisfied: packaging>=21.3 in /usr/local/lib/python3.11/dist-packages (from statsmodels->pgmpy) (24.2)\n",
            "Requirement already satisfied: filelock in /usr/local/lib/python3.11/dist-packages (from torch->pgmpy) (3.16.1)\n",
            "Requirement already satisfied: jinja2 in /usr/local/lib/python3.11/dist-packages (from torch->pgmpy) (3.1.5)\n",
            "Requirement already satisfied: fsspec in /usr/local/lib/python3.11/dist-packages (from torch->pgmpy) (2024.10.0)\n",
            "Requirement already satisfied: nvidia-cuda-nvrtc-cu12==12.1.105 in /usr/local/lib/python3.11/dist-packages (from torch->pgmpy) (12.1.105)\n",
            "Requirement already satisfied: nvidia-cuda-runtime-cu12==12.1.105 in /usr/local/lib/python3.11/dist-packages (from torch->pgmpy) (12.1.105)\n",
            "Requirement already satisfied: nvidia-cuda-cupti-cu12==12.1.105 in /usr/local/lib/python3.11/dist-packages (from torch->pgmpy) (12.1.105)\n",
            "Requirement already satisfied: nvidia-cudnn-cu12==9.1.0.70 in /usr/local/lib/python3.11/dist-packages (from torch->pgmpy) (9.1.0.70)\n",
            "Requirement already satisfied: nvidia-cublas-cu12==12.1.3.1 in /usr/local/lib/python3.11/dist-packages (from torch->pgmpy) (12.1.3.1)\n",
            "Requirement already satisfied: nvidia-cufft-cu12==11.0.2.54 in /usr/local/lib/python3.11/dist-packages (from torch->pgmpy) (11.0.2.54)\n",
            "Requirement already satisfied: nvidia-curand-cu12==10.3.2.106 in /usr/local/lib/python3.11/dist-packages (from torch->pgmpy) (10.3.2.106)\n",
            "Requirement already satisfied: nvidia-cusolver-cu12==11.4.5.107 in /usr/local/lib/python3.11/dist-packages (from torch->pgmpy) (11.4.5.107)\n",
            "Requirement already satisfied: nvidia-cusparse-cu12==12.1.0.106 in /usr/local/lib/python3.11/dist-packages (from torch->pgmpy) (12.1.0.106)\n",
            "Requirement already satisfied: nvidia-nccl-cu12==2.21.5 in /usr/local/lib/python3.11/dist-packages (from torch->pgmpy) (2.21.5)\n",
            "Requirement already satisfied: nvidia-nvtx-cu12==12.1.105 in /usr/local/lib/python3.11/dist-packages (from torch->pgmpy) (12.1.105)\n",
            "Requirement already satisfied: triton==3.1.0 in /usr/local/lib/python3.11/dist-packages (from torch->pgmpy) (3.1.0)\n",
            "Requirement already satisfied: sympy==1.13.1 in /usr/local/lib/python3.11/dist-packages (from torch->pgmpy) (1.13.1)\n",
            "Requirement already satisfied: nvidia-nvjitlink-cu12 in /usr/local/lib/python3.11/dist-packages (from nvidia-cusolver-cu12==11.4.5.107->torch->pgmpy) (12.6.85)\n",
            "Requirement already satisfied: mpmath<1.4,>=1.1.0 in /usr/local/lib/python3.11/dist-packages (from sympy==1.13.1->torch->pgmpy) (1.3.0)\n",
            "Requirement already satisfied: googleapis-common-protos<2.0.dev0,>=1.56.2 in /usr/local/lib/python3.11/dist-packages (from google-api-core->google-generativeai->pgmpy) (1.66.0)\n",
            "Requirement already satisfied: requests<3.0.0.dev0,>=2.18.0 in /usr/local/lib/python3.11/dist-packages (from google-api-core->google-generativeai->pgmpy) (2.32.3)\n",
            "Requirement already satisfied: cachetools<6.0,>=2.0.0 in /usr/local/lib/python3.11/dist-packages (from google-auth>=2.15.0->google-generativeai->pgmpy) (5.5.0)\n",
            "Requirement already satisfied: pyasn1-modules>=0.2.1 in /usr/local/lib/python3.11/dist-packages (from google-auth>=2.15.0->google-generativeai->pgmpy) (0.4.1)\n",
            "Requirement already satisfied: rsa<5,>=3.1.4 in /usr/local/lib/python3.11/dist-packages (from google-auth>=2.15.0->google-generativeai->pgmpy) (4.9)\n",
            "Requirement already satisfied: six>=1.5 in /usr/local/lib/python3.11/dist-packages (from python-dateutil>=2.8.2->pandas->pgmpy) (1.17.0)\n",
            "Requirement already satisfied: httplib2<1.dev0,>=0.19.0 in /usr/local/lib/python3.11/dist-packages (from google-api-python-client->google-generativeai->pgmpy) (0.22.0)\n",
            "Requirement already satisfied: google-auth-httplib2<1.0.0,>=0.2.0 in /usr/local/lib/python3.11/dist-packages (from google-api-python-client->google-generativeai->pgmpy) (0.2.0)\n",
            "Requirement already satisfied: uritemplate<5,>=3.0.1 in /usr/local/lib/python3.11/dist-packages (from google-api-python-client->google-generativeai->pgmpy) (4.1.1)\n",
            "Requirement already satisfied: MarkupSafe>=2.0 in /usr/local/lib/python3.11/dist-packages (from jinja2->torch->pgmpy) (3.0.2)\n",
            "Requirement already satisfied: annotated-types>=0.6.0 in /usr/local/lib/python3.11/dist-packages (from pydantic->google-generativeai->pgmpy) (0.7.0)\n",
            "Requirement already satisfied: pydantic-core==2.27.2 in /usr/local/lib/python3.11/dist-packages (from pydantic->google-generativeai->pgmpy) (2.27.2)\n",
            "Requirement already satisfied: grpcio<2.0dev,>=1.33.2 in /usr/local/lib/python3.11/dist-packages (from google-api-core[grpc]!=2.0.*,!=2.1.*,!=2.10.*,!=2.2.*,!=2.3.*,!=2.4.*,!=2.5.*,!=2.6.*,!=2.7.*,!=2.8.*,!=2.9.*,<3.0.0dev,>=1.34.1->google-ai-generativelanguage==0.6.10->google-generativeai->pgmpy) (1.69.0)\n",
            "Requirement already satisfied: grpcio-status<2.0.dev0,>=1.33.2 in /usr/local/lib/python3.11/dist-packages (from google-api-core[grpc]!=2.0.*,!=2.1.*,!=2.10.*,!=2.2.*,!=2.3.*,!=2.4.*,!=2.5.*,!=2.6.*,!=2.7.*,!=2.8.*,!=2.9.*,<3.0.0dev,>=1.34.1->google-ai-generativelanguage==0.6.10->google-generativeai->pgmpy) (1.62.3)\n",
            "Requirement already satisfied: pyasn1<0.7.0,>=0.4.6 in /usr/local/lib/python3.11/dist-packages (from pyasn1-modules>=0.2.1->google-auth>=2.15.0->google-generativeai->pgmpy) (0.6.1)\n",
            "Requirement already satisfied: charset-normalizer<4,>=2 in /usr/local/lib/python3.11/dist-packages (from requests<3.0.0.dev0,>=2.18.0->google-api-core->google-generativeai->pgmpy) (3.4.1)\n",
            "Requirement already satisfied: idna<4,>=2.5 in /usr/local/lib/python3.11/dist-packages (from requests<3.0.0.dev0,>=2.18.0->google-api-core->google-generativeai->pgmpy) (3.10)\n",
            "Requirement already satisfied: urllib3<3,>=1.21.1 in /usr/local/lib/python3.11/dist-packages (from requests<3.0.0.dev0,>=2.18.0->google-api-core->google-generativeai->pgmpy) (2.3.0)\n",
            "Downloading skyfield-1.49-py3-none-any.whl (336 kB)\n",
            "\u001b[2K   \u001b[90m━━━━━━━━━━━━━━━━━━━━━━━━━━━━━━━━━━━━━━━━\u001b[0m \u001b[32m336.2/336.2 kB\u001b[0m \u001b[31m8.2 MB/s\u001b[0m eta \u001b[36m0:00:00\u001b[0m\n",
            "\u001b[?25hDownloading pgmpy-0.1.26-py3-none-any.whl (2.0 MB)\n",
            "\u001b[2K   \u001b[90m━━━━━━━━━━━━━━━━━━━━━━━━━━━━━━━━━━━━━━━━\u001b[0m \u001b[32m2.0/2.0 MB\u001b[0m \u001b[31m41.7 MB/s\u001b[0m eta \u001b[36m0:00:00\u001b[0m\n",
            "\u001b[?25hDownloading jplephem-2.22-py3-none-any.whl (47 kB)\n",
            "\u001b[2K   \u001b[90m━━━━━━━━━━━━━━━━━━━━━━━━━━━━━━━━━━━━━━━━\u001b[0m \u001b[32m47.2/47.2 kB\u001b[0m \u001b[31m1.9 MB/s\u001b[0m eta \u001b[36m0:00:00\u001b[0m\n",
            "\u001b[?25hDownloading sgp4-2.23-cp311-cp311-manylinux_2_5_x86_64.manylinux1_x86_64.manylinux_2_17_x86_64.manylinux2014_x86_64.whl (232 kB)\n",
            "\u001b[2K   \u001b[90m━━━━━━━━━━━━━━━━━━━━━━━━━━━━━━━━━━━━━━━━\u001b[0m \u001b[32m232.3/232.3 kB\u001b[0m \u001b[31m11.9 MB/s\u001b[0m eta \u001b[36m0:00:00\u001b[0m\n",
            "\u001b[?25hInstalling collected packages: sgp4, jplephem, skyfield, pgmpy\n",
            "Successfully installed jplephem-2.22 pgmpy-0.1.26 sgp4-2.23 skyfield-1.49\n"
          ]
        }
      ],
      "source": [
        "!pip install skyfield pgmpy numpy"
      ]
    },
    {
      "cell_type": "code",
      "source": [
        "import numpy as np\n",
        "from skyfield.api import load, EarthSatellite\n",
        "from pgmpy.models import BayesianNetwork\n",
        "from pgmpy.factors.discrete import TabularCPD\n",
        "from pgmpy.inference import VariableElimination"
      ],
      "metadata": {
        "id": "-DqUQFPhrTHg"
      },
      "execution_count": null,
      "outputs": []
    },
    {
      "cell_type": "code",
      "source": [
        "# load NORAD TLE data\n",
        "def load_tle(tle_file_path):\n",
        "  satellites = {}\n",
        "  with open(tle_file_path, 'r') as file:\n",
        "    lines = file.readlines()\n",
        "    for i in range(0, len(lines), 3):\n",
        "      name = lines[i].strip()\n",
        "      line1 = lines[i + 1].strip()\n",
        "      line2 = lines[i + 2].strip()\n",
        "      satellite = EarthSatellite(line1, line2, name)\n",
        "      satellites[name] = satellite\n",
        "  return satellites"
      ],
      "metadata": {
        "id": "zDamlqmqrnVr"
      },
      "execution_count": null,
      "outputs": []
    },
    {
      "cell_type": "code",
      "source": [
        "tle_file_path = 'active.txt'\n",
        "satellites = load_tle(tle_file_path)"
      ],
      "metadata": {
        "id": "dXHiHjbJtRV7"
      },
      "execution_count": null,
      "outputs": []
    },
    {
      "cell_type": "code",
      "source": [
        "# calculate positional uncertainty and relative velocity\n",
        "def calculate_uncertainty_and_velocity(satellite1, satellite2, time):\n",
        "  # get positions at specified time\n",
        "  position1 = satellite1.at(time).position.km\n",
        "  position2 = satellite2.at(time).position.km\n",
        "\n",
        "  # calculate Euclidean distance\n",
        "  distance = np.linalg.norm(position1 - position2)\n",
        "\n",
        "  # calculate relative velocity\n",
        "  velocity1 = satellite1.at(time).velocity.km_per_s\n",
        "  velocity2 = satellite2.at(time).velocity.km_per_s\n",
        "  relative_velocity = np.linalg.norm(velocity1 - velocity2)\n",
        "\n",
        "  return distance, relative_velocity"
      ],
      "metadata": {
        "id": "oaWzOZNutkUd"
      },
      "execution_count": null,
      "outputs": []
    },
    {
      "cell_type": "code",
      "source": [
        "ts = load.timescale()\n",
        "time = ts.now()"
      ],
      "metadata": {
        "id": "05gxHbytuNcd"
      },
      "execution_count": null,
      "outputs": []
    },
    {
      "cell_type": "code",
      "source": [
        "# example w/ two satellites from data\n",
        "satellite_names = list(satellites.keys())\n",
        "satellite1_name = satellites[satellite_names[0]]\n",
        "satellite2_name = satellites[satellite_names[1]]\n",
        "\n",
        "distance, relative_velocity = calculate_uncertainty_and_velocity(satellite1_name, satellite2_name, time)\n",
        "print(f\"Positional Distance (Uncertainty): {distance:.2f} km\")\n",
        "print(f\"Relative Velocity: {relative_velocity:.2f} km/s\")"
      ],
      "metadata": {
        "colab": {
          "base_uri": "https://localhost:8080/"
        },
        "id": "b5h30xcluThg",
        "outputId": "86bf2072-acbe-4812-8109-05cdf50d5cc9"
      },
      "execution_count": null,
      "outputs": [
        {
          "output_type": "stream",
          "name": "stdout",
          "text": [
            "Positional Distance (Uncertainty): 14161.99 km\n",
            "Relative Velocity: 13.97 km/s\n"
          ]
        }
      ]
    },
    {
      "cell_type": "code",
      "source": [
        "# bayesian network model\n",
        "model = BayesianNetwork([\n",
        "    (\"Debris_Position\", \"Collision_Risk\"),\n",
        "    (\"Satellite_Position\", \"Collision_Risk\"),\n",
        "    (\"Relative_Velocity\", \"Collision_Risk\")\n",
        "])\n",
        "\n",
        "# define CPDs\n",
        "cpd_debris_position = TabularCPD(\n",
        "    variable=\"Debris_Position\",\n",
        "    variable_card=2,  # [low uncertainty, high uncertainty]\n",
        "    values=[[0.8], [0.2]] # example probabilities\n",
        ")\n",
        "cpd_satellite_position = TabularCPD(\n",
        "    variable=\"Satellite_Position\",\n",
        "    variable_card=2,  # [low uncertainty, high uncertainty]\n",
        "    values=[[0.85], [0.15]]  # example probabilities\n",
        ")\n",
        "cpd_relative_velocity = TabularCPD(\n",
        "    variable=\"Relative_Velocity\",\n",
        "    variable_card=2,  # [low velocity, High velocity]\n",
        "    values=[[0.9], [0.1]]  # example probabilities\n",
        ")\n",
        "cpd_collision_risk = TabularCPD(\n",
        "    variable=\"Collision_Risk\",\n",
        "    variable_card=2,\n",
        "    evidence=[\"Debris_Position\", \"Satellite_Position\", \"Relative_Velocity\"],\n",
        "    evidence_card=[2, 2, 2],\n",
        "    values=[\n",
        "        [0.99, 0.95, 0.90, 0.85, 0.96, 0.90, 0.80, 0.70],  # no collision\n",
        "        [0.01, 0.05, 0.10, 0.15, 0.04, 0.10, 0.20, 0.30]   # collision\n",
        "    ]\n",
        ")\n",
        "\n",
        "model.add_cpds(cpd_debris_position, cpd_satellite_position, cpd_relative_velocity, cpd_collision_risk)\n",
        "model.check_model()"
      ],
      "metadata": {
        "colab": {
          "base_uri": "https://localhost:8080/"
        },
        "id": "UtyM6EZUzSkM",
        "outputId": "9074f83b-dac0-4b40-c854-32097d831610"
      },
      "execution_count": null,
      "outputs": [
        {
          "output_type": "execute_result",
          "data": {
            "text/plain": [
              "True"
            ]
          },
          "metadata": {},
          "execution_count": 8
        }
      ]
    },
    {
      "cell_type": "code",
      "source": [
        "# perform inference\n",
        "inference = VariableElimination(model)"
      ],
      "metadata": {
        "id": "SfYy3l3l0B0h"
      },
      "execution_count": null,
      "outputs": []
    },
    {
      "cell_type": "code",
      "source": [
        "# map distance and velocity to network inputs\n",
        "def map_to_bayesian_inputs(distance, relative_velocity):\n",
        "    debris_uncertainty = 1 if distance > 100 else 0\n",
        "    satellite_uncertainty = 1 if distance > 50 else 0\n",
        "    velocity_category = 1 if relative_velocity > 2.0 else 0\n",
        "    return debris_uncertainty, satellite_uncertainty, velocity_category\n",
        "\n",
        "debris_uncertainty, satellite_uncertainty, velocity_category = map_to_bayesian_inputs(distance, relative_velocity)\n",
        "\n",
        "# Query collision risk\n",
        "query_result = inference.query(\n",
        "    variables=[\"Collision_Risk\"],\n",
        "    evidence={\n",
        "        \"Debris_Position\": debris_uncertainty,\n",
        "        \"Satellite_Position\": satellite_uncertainty,\n",
        "        \"Relative_Velocity\": velocity_category\n",
        "    }\n",
        ")"
      ],
      "metadata": {
        "id": "d6MJpCX5LcGO"
      },
      "execution_count": null,
      "outputs": []
    },
    {
      "cell_type": "code",
      "source": [
        "print(\"\\nCollision Probability Distribution:\")\n",
        "print(query_result)"
      ],
      "metadata": {
        "id": "wvrFGS8QLo2e",
        "outputId": "6e8c541e-9252-438c-8d67-8dcf0d9089ad",
        "colab": {
          "base_uri": "https://localhost:8080/"
        }
      },
      "execution_count": null,
      "outputs": [
        {
          "output_type": "stream",
          "name": "stdout",
          "text": [
            "\n",
            "Collision Probability Distribution:\n",
            "+-------------------+-----------------------+\n",
            "| Collision_Risk    |   phi(Collision_Risk) |\n",
            "+===================+=======================+\n",
            "| Collision_Risk(0) |                0.7000 |\n",
            "+-------------------+-----------------------+\n",
            "| Collision_Risk(1) |                0.3000 |\n",
            "+-------------------+-----------------------+\n"
          ]
        }
      ]
    },
    {
      "cell_type": "code",
      "source": [],
      "metadata": {
        "id": "mShRCT6GLqV1"
      },
      "execution_count": null,
      "outputs": []
    }
  ]
}