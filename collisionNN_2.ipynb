{
  "nbformat": 4,
  "nbformat_minor": 0,
  "metadata": {
    "colab": {
      "provenance": []
    },
    "kernelspec": {
      "name": "python3",
      "display_name": "Python 3"
    },
    "language_info": {
      "name": "python"
    }
  },
  "cells": [
    {
      "cell_type": "code",
      "execution_count": null,
      "metadata": {
        "colab": {
          "base_uri": "https://localhost:8080/"
        },
        "collapsed": true,
        "id": "jSApzcIRM31d",
        "outputId": "3be6a09d-3a28-4e42-fb37-6c38bd156ee6"
      },
      "outputs": [
        {
          "output_type": "stream",
          "name": "stdout",
          "text": [
            "Requirement already satisfied: skyfield in /usr/local/lib/python3.11/dist-packages (1.53)\n",
            "Requirement already satisfied: certifi>=2017.4.17 in /usr/local/lib/python3.11/dist-packages (from skyfield) (2025.1.31)\n",
            "Requirement already satisfied: jplephem>=2.13 in /usr/local/lib/python3.11/dist-packages (from skyfield) (2.22)\n",
            "Requirement already satisfied: numpy in /usr/local/lib/python3.11/dist-packages (from skyfield) (2.0.2)\n",
            "Requirement already satisfied: sgp4>=2.13 in /usr/local/lib/python3.11/dist-packages (from skyfield) (2.24)\n"
          ]
        }
      ],
      "source": [
        "!pip install skyfield"
      ]
    },
    {
      "cell_type": "code",
      "source": [
        "import numpy as np\n",
        "import pandas as pd\n",
        "from sklearn.model_selection import train_test_split\n",
        "from sklearn.preprocessing import StandardScaler\n",
        "from sklearn.utils.class_weight import compute_class_weight\n",
        "from tensorflow.keras.models import Sequential\n",
        "from tensorflow.keras.layers import LSTM, Dense, Dropout\n",
        "from tensorflow.keras.optimizers import Adam\n",
        "from tensorflow.keras.layers import LeakyReLU\n",
        "from skyfield.api import load, EarthSatellite"
      ],
      "metadata": {
        "id": "zyyH4q_vM9yn"
      },
      "execution_count": null,
      "outputs": []
    },
    {
      "cell_type": "code",
      "source": [
        "# load TLE data\n",
        "def load_tle(tle_file_path):\n",
        "    satellites = {}\n",
        "    with open(tle_file_path, 'r') as file:\n",
        "        lines = file.readlines()\n",
        "        for i in range(0, len(lines), 3):\n",
        "            name = lines[i].strip()\n",
        "            line1 = lines[i + 1].strip()\n",
        "            line2 = lines[i + 2].strip()\n",
        "            satellite = EarthSatellite(line1, line2, name)\n",
        "            satellites[name] = satellite\n",
        "    return satellites\n",
        "\n",
        "tle_file_path = 'active.txt'\n",
        "satellites = load_tle(tle_file_path)"
      ],
      "metadata": {
        "id": "0vxx_I5gNJ2d"
      },
      "execution_count": null,
      "outputs": []
    },
    {
      "cell_type": "code",
      "source": [
        "# # feature engineering\n",
        "# def calculate_features(satellite1, satellite2, time):\n",
        "#   position1 = satellite1.at(time).position.km\n",
        "#   position2 = satellite2.at(time).position.km\n",
        "#   velocity1 = satellite1.at(time).velocity.km_per_s\n",
        "#   velocity2 = satellite2.at(time).velocity.km_per_s\n",
        "\n",
        "#   distance = np.linalg.norm(position1 - position2)  # positional uncertainty\n",
        "#   relative_velocity = np.linalg.norm(velocity1 - velocity2)  # relative velocity\n",
        "#   inclination1 = satellite1.model.inclo  # orbital inclination (degrees)\n",
        "#   inclination2 = satellite2.model.inclo\n",
        "#   eccentricity1 = satellite1.model.ecco  # orbital eccentricity\n",
        "#   eccentricity2 = satellite2.model.ecco\n",
        "\n",
        "#   return [distance, relative_velocity, inclination1, inclination2, eccentricity1, eccentricity2]"
      ],
      "metadata": {
        "id": "CnUY0IGF1ZsL"
      },
      "execution_count": null,
      "outputs": []
    },
    {
      "cell_type": "code",
      "source": [
        "# generate sequential trajectory data\n",
        "def generate_trajectory_data(satellite1, satellite2, timesteps=10):\n",
        "    ts = load.timescale()\n",
        "    start_time = ts.now()\n",
        "\n",
        "    trajectories = []\n",
        "    for t in range(timesteps):\n",
        "      time = start_time + t*60 # increment time by 1 min\n",
        "\n",
        "      try:\n",
        "        position1 = satellite1.at(time).position.km\n",
        "        position2 = satellite2.at(time).position.km\n",
        "        velocity1 = satellite1.at(time).velocity.km_per_s\n",
        "        velocity2 = satellite2.at(time).velocity.km_per_s\n",
        "\n",
        "        # features\n",
        "        distance = np.linalg.norm(position1 - position2)  # positional uncertainty\n",
        "        relative_velocity = np.linalg.norm(velocity1 - velocity2)  # relative velocity\n",
        "\n",
        "        inclination1 = satellite1.model.inclo if hasattr(satellite1.model, 'inclo') else 0\n",
        "        inclination2 = satellite2.model.inclo if hasattr(satellite2.model, 'inclo') else 0\n",
        "        eccentricity1 = satellite1.model.ecco if hasattr(satellite1.model, 'ecco') else 0\n",
        "        eccentricity2 = satellite2.model.ecco if hasattr(satellite2.model, 'ecco') else 0\n",
        "\n",
        "\n",
        "        # check for NaNs\n",
        "        if any(np.isnan([distance, relative_velocity, inclination1, inclination2, eccentricity1, eccentricity2])):\n",
        "          print(f\"Warning: NaN detected at timestep {t} for satellites {satellite1.name} & {satellite2.name}\")\n",
        "          return None\n",
        "\n",
        "        trajectories.append([\n",
        "            distance, relative_velocity, inclination1, inclination2, eccentricity1, eccentricity2\n",
        "        ])\n",
        "\n",
        "      except Exception as e:\n",
        "        print(f\"Error generating trajectory at timestep {t}: {e}\")\n",
        "        return None\n",
        "\n",
        "    # ensure shape is always (timesteps, features)\n",
        "    if len(trajectories) < timesteps:\n",
        "      missing_timesteps = timesteps - len(trajectories)\n",
        "      trajectories.extend([[0] * 6] * missing_timesteps)\n",
        "\n",
        "    return np.array(trajectories)"
      ],
      "metadata": {
        "id": "4V4FFypWNS4m"
      },
      "execution_count": null,
      "outputs": []
    },
    {
      "cell_type": "code",
      "source": [
        "# simulated dataset\n",
        "def generate_dataset(satellites, num_samples=500, timesteps=10):\n",
        "    satellite_names = list(satellites.keys())\n",
        "    data=[]\n",
        "    labels=[]\n",
        "\n",
        "    for _ in range(num_samples):\n",
        "        sat1 = satellites[np.random.choice(satellite_names)]\n",
        "        sat2 = satellites[np.random.choice(satellite_names)]\n",
        "        trajectory = generate_trajectory_data(sat1, sat2, timesteps)\n",
        "        if trajectory is None: # skip bad data\n",
        "          continue\n",
        "\n",
        "        collision = np.random.choice([0, 1], p=[0.95, 0.05]) # simulated label\n",
        "\n",
        "        data.append(trajectory)\n",
        "        labels.append(collision)\n",
        "\n",
        "    return np.array(data), np.array(labels)\n",
        "\n",
        "# generate trajectory data\n",
        "timesteps=10\n",
        "X, y = generate_dataset(satellites, num_samples=500, timesteps=timesteps)\n",
        "print(np.isnan(X).any())"
      ],
      "metadata": {
        "id": "oDgmoc9KNYV-",
        "colab": {
          "base_uri": "https://localhost:8080/"
        },
        "outputId": "5f133d10-4ed2-4f20-eb1f-a2dd27074c3f"
      },
      "execution_count": null,
      "outputs": [
        {
          "output_type": "stream",
          "name": "stdout",
          "text": [
            "Warning: NaN detected at timestep 0 for satellites STARLINK-31365 & STARLINK-1852\n",
            "Warning: NaN detected at timestep 4 for satellites STARLINK-3780 & STARLINK-31246\n",
            "Warning: NaN detected at timestep 3 for satellites STARLINK-31367 & ONEWEB-0387\n",
            "Warning: NaN detected at timestep 1 for satellites STARLINK-30285 & STARLINK-1414\n",
            "Warning: NaN detected at timestep 5 for satellites STARLINK-1303 & UWE-3\n",
            "Warning: NaN detected at timestep 2 for satellites STARLINK-4749 & TANDEM-X\n",
            "Warning: NaN detected at timestep 2 for satellites STARLINK-31854 & STARLINK-31987\n",
            "Warning: NaN detected at timestep 5 for satellites STARLINK-11520 [DTC] & STARLINK-1346\n",
            "Warning: NaN detected at timestep 4 for satellites ONEWEB-0690 & STARLINK-5170\n",
            "Warning: NaN detected at timestep 6 for satellites STARLINK-1189 & STARLINK-2746\n",
            "Warning: NaN detected at timestep 2 for satellites STARLINK-30095 & STARLINK-31901\n",
            "Warning: NaN detected at timestep 0 for satellites STARLINK-1172 & STARLINK-1038\n",
            "Warning: NaN detected at timestep 2 for satellites STARLINK-4376 & STARLINK-11559 [DTC]\n",
            "Warning: NaN detected at timestep 3 for satellites SES-2 & STARLINK-2008\n",
            "Warning: NaN detected at timestep 2 for satellites SBIRS GEO-5 (USA 315) & STARLINK-2059\n",
            "Warning: NaN detected at timestep 1 for satellites STARLINK-1604 & USA 325\n",
            "Warning: NaN detected at timestep 4 for satellites STARLINK-30375 & STARLINK-1205\n",
            "Warning: NaN detected at timestep 5 for satellites ZHONGXING-3A & STARLINK-31932\n",
            "Warning: NaN detected at timestep 0 for satellites ONEWEB-0697 & ECHOSTAR 21\n",
            "Warning: NaN detected at timestep 9 for satellites NORSAT-TD & STARLINK-30288\n",
            "Warning: NaN detected at timestep 0 for satellites STARLINK-31374 & ONEWEB-0377\n",
            "Warning: NaN detected at timestep 3 for satellites STARLINK-2044 & STARLINK-1307\n",
            "Warning: NaN detected at timestep 1 for satellites NETSAT-2 & 2024-236A\n",
            "Warning: NaN detected at timestep 0 for satellites STARLINK-1908 & STARLINK-31828\n",
            "Warning: NaN detected at timestep 6 for satellites STARLINK-2693 & STARLINK-30762\n",
            "Warning: NaN detected at timestep 0 for satellites STARLINK-5713 & EAGLET-I\n",
            "Warning: NaN detected at timestep 4 for satellites STARLINK-2448 & STARLINK-1205\n",
            "False\n"
          ]
        }
      ]
    },
    {
      "cell_type": "code",
      "source": [
        "# preprocess data\n",
        "n_features = X.shape[2]\n",
        "scalers = [StandardScaler() for _ in range(timesteps)]\n",
        "for t in range(timesteps):\n",
        "  if np.isnan(X[:, t, :]).any():\n",
        "    print(f\"Warning: NaN detected in timestep {t}\")\n",
        "  X[:, t, :] = scalers[t].fit_transform(X[:, t, :])\n",
        "\n",
        "X_train, X_test, y_train, y_test = train_test_split(X, y, test_size=0.2, random_state=42)"
      ],
      "metadata": {
        "id": "SSD1c3QVNeel"
      },
      "execution_count": null,
      "outputs": []
    },
    {
      "cell_type": "code",
      "source": [
        "# check for NaN values in input\n",
        "print(\"Any NaN in X_train:\", np.isnan(X_train).any())\n",
        "print(\"Any NaN in X_test:\", np.isnan(X_test).any())\n",
        "print(\"Any NaN in y_train:\", np.isnan(y_train).any())\n",
        "print(\"Any NaN in y_test:\", np.isnan(y_test).any())"
      ],
      "metadata": {
        "colab": {
          "base_uri": "https://localhost:8080/"
        },
        "id": "GomsgL-N1ygE",
        "outputId": "b6e15a8d-de19-4a0d-c1c5-2df6da9e5500"
      },
      "execution_count": null,
      "outputs": [
        {
          "output_type": "stream",
          "name": "stdout",
          "text": [
            "Any NaN in X_train: False\n",
            "Any NaN in X_test: False\n",
            "Any NaN in y_train: False\n",
            "Any NaN in y_test: False\n"
          ]
        }
      ]
    },
    {
      "cell_type": "code",
      "source": [
        "# define LSTM  with hyperparameter tuning\n",
        "def build_lstm_model(timesteps, n_features):\n",
        "    model = Sequential([\n",
        "        LSTM(64, input_shape=(timesteps, n_features), return_sequences=True, activation='tanh'),\n",
        "        Dropout(0.3),\n",
        "        LSTM(32, activation='tanh'),\n",
        "        Dropout(0.3),\n",
        "        Dense(1, activation='sigmoid') # binary classification\n",
        "    ])\n",
        "    model.compile(optimizer=Adam(learning_rate=0.0001, clipnorm=1.0), loss='binary_crossentropy', metrics=['accuracy'])\n",
        "    return model\n",
        "\n",
        "model = build_lstm_model(timesteps, n_features)\n",
        "\n",
        "history = model.fit(X_train, y_train, validation_data=(X_test, y_test), epochs=100, batch_size=32, verbose=1)"
      ],
      "metadata": {
        "colab": {
          "base_uri": "https://localhost:8080/"
        },
        "id": "QygrQA9hNkHF",
        "outputId": "c5e694d6-cffa-42b4-b96c-ef58e5c663bf",
        "collapsed": true
      },
      "execution_count": null,
      "outputs": [
        {
          "output_type": "stream",
          "name": "stderr",
          "text": [
            "/usr/local/lib/python3.11/dist-packages/keras/src/layers/rnn/rnn.py:200: UserWarning: Do not pass an `input_shape`/`input_dim` argument to a layer. When using Sequential models, prefer using an `Input(shape)` object as the first layer in the model instead.\n",
            "  super().__init__(**kwargs)\n"
          ]
        },
        {
          "output_type": "stream",
          "name": "stdout",
          "text": [
            "Epoch 1/100\n",
            "\u001b[1m12/12\u001b[0m \u001b[32m━━━━━━━━━━━━━━━━━━━━\u001b[0m\u001b[37m\u001b[0m \u001b[1m7s\u001b[0m 99ms/step - accuracy: 0.5921 - loss: 0.6815 - val_accuracy: 0.9474 - val_loss: 0.6728\n",
            "Epoch 2/100\n",
            "\u001b[1m12/12\u001b[0m \u001b[32m━━━━━━━━━━━━━━━━━━━━\u001b[0m\u001b[37m\u001b[0m \u001b[1m0s\u001b[0m 29ms/step - accuracy: 0.7457 - loss: 0.6716 - val_accuracy: 0.9474 - val_loss: 0.6583\n",
            "Epoch 3/100\n",
            "\u001b[1m12/12\u001b[0m \u001b[32m━━━━━━━━━━━━━━━━━━━━\u001b[0m\u001b[37m\u001b[0m \u001b[1m0s\u001b[0m 19ms/step - accuracy: 0.8263 - loss: 0.6559 - val_accuracy: 0.9474 - val_loss: 0.6428\n",
            "Epoch 4/100\n",
            "\u001b[1m12/12\u001b[0m \u001b[32m━━━━━━━━━━━━━━━━━━━━\u001b[0m\u001b[37m\u001b[0m \u001b[1m0s\u001b[0m 18ms/step - accuracy: 0.8430 - loss: 0.6477 - val_accuracy: 0.9474 - val_loss: 0.6265\n",
            "Epoch 5/100\n",
            "\u001b[1m12/12\u001b[0m \u001b[32m━━━━━━━━━━━━━━━━━━━━\u001b[0m\u001b[37m\u001b[0m \u001b[1m0s\u001b[0m 18ms/step - accuracy: 0.8822 - loss: 0.6328 - val_accuracy: 0.9474 - val_loss: 0.6090\n",
            "Epoch 6/100\n",
            "\u001b[1m12/12\u001b[0m \u001b[32m━━━━━━━━━━━━━━━━━━━━\u001b[0m\u001b[37m\u001b[0m \u001b[1m0s\u001b[0m 17ms/step - accuracy: 0.9180 - loss: 0.6108 - val_accuracy: 0.9474 - val_loss: 0.5897\n",
            "Epoch 7/100\n",
            "\u001b[1m12/12\u001b[0m \u001b[32m━━━━━━━━━━━━━━━━━━━━\u001b[0m\u001b[37m\u001b[0m \u001b[1m0s\u001b[0m 18ms/step - accuracy: 0.9283 - loss: 0.5941 - val_accuracy: 0.9474 - val_loss: 0.5680\n",
            "Epoch 8/100\n",
            "\u001b[1m12/12\u001b[0m \u001b[32m━━━━━━━━━━━━━━━━━━━━\u001b[0m\u001b[37m\u001b[0m \u001b[1m0s\u001b[0m 17ms/step - accuracy: 0.9159 - loss: 0.5739 - val_accuracy: 0.9474 - val_loss: 0.5439\n",
            "Epoch 9/100\n",
            "\u001b[1m12/12\u001b[0m \u001b[32m━━━━━━━━━━━━━━━━━━━━\u001b[0m\u001b[37m\u001b[0m \u001b[1m0s\u001b[0m 18ms/step - accuracy: 0.9294 - loss: 0.5522 - val_accuracy: 0.9474 - val_loss: 0.5169\n",
            "Epoch 10/100\n",
            "\u001b[1m12/12\u001b[0m \u001b[32m━━━━━━━━━━━━━━━━━━━━\u001b[0m\u001b[37m\u001b[0m \u001b[1m0s\u001b[0m 17ms/step - accuracy: 0.9228 - loss: 0.5320 - val_accuracy: 0.9474 - val_loss: 0.4867\n",
            "Epoch 11/100\n",
            "\u001b[1m12/12\u001b[0m \u001b[32m━━━━━━━━━━━━━━━━━━━━\u001b[0m\u001b[37m\u001b[0m \u001b[1m0s\u001b[0m 18ms/step - accuracy: 0.9172 - loss: 0.4993 - val_accuracy: 0.9474 - val_loss: 0.4532\n",
            "Epoch 12/100\n",
            "\u001b[1m12/12\u001b[0m \u001b[32m━━━━━━━━━━━━━━━━━━━━\u001b[0m\u001b[37m\u001b[0m \u001b[1m0s\u001b[0m 18ms/step - accuracy: 0.9289 - loss: 0.4713 - val_accuracy: 0.9474 - val_loss: 0.4160\n",
            "Epoch 13/100\n",
            "\u001b[1m12/12\u001b[0m \u001b[32m━━━━━━━━━━━━━━━━━━━━\u001b[0m\u001b[37m\u001b[0m \u001b[1m0s\u001b[0m 17ms/step - accuracy: 0.9356 - loss: 0.4273 - val_accuracy: 0.9474 - val_loss: 0.3773\n",
            "Epoch 14/100\n",
            "\u001b[1m12/12\u001b[0m \u001b[32m━━━━━━━━━━━━━━━━━━━━\u001b[0m\u001b[37m\u001b[0m \u001b[1m0s\u001b[0m 17ms/step - accuracy: 0.9394 - loss: 0.3890 - val_accuracy: 0.9474 - val_loss: 0.3377\n",
            "Epoch 15/100\n",
            "\u001b[1m12/12\u001b[0m \u001b[32m━━━━━━━━━━━━━━━━━━━━\u001b[0m\u001b[37m\u001b[0m \u001b[1m0s\u001b[0m 19ms/step - accuracy: 0.9038 - loss: 0.3884 - val_accuracy: 0.9474 - val_loss: 0.2998\n",
            "Epoch 16/100\n",
            "\u001b[1m12/12\u001b[0m \u001b[32m━━━━━━━━━━━━━━━━━━━━\u001b[0m\u001b[37m\u001b[0m \u001b[1m0s\u001b[0m 18ms/step - accuracy: 0.9145 - loss: 0.3429 - val_accuracy: 0.9474 - val_loss: 0.2657\n",
            "Epoch 17/100\n",
            "\u001b[1m12/12\u001b[0m \u001b[32m━━━━━━━━━━━━━━━━━━━━\u001b[0m\u001b[37m\u001b[0m \u001b[1m0s\u001b[0m 18ms/step - accuracy: 0.9303 - loss: 0.3035 - val_accuracy: 0.9474 - val_loss: 0.2357\n",
            "Epoch 18/100\n",
            "\u001b[1m12/12\u001b[0m \u001b[32m━━━━━━━━━━━━━━━━━━━━\u001b[0m\u001b[37m\u001b[0m \u001b[1m0s\u001b[0m 17ms/step - accuracy: 0.9293 - loss: 0.2792 - val_accuracy: 0.9474 - val_loss: 0.2125\n",
            "Epoch 19/100\n",
            "\u001b[1m12/12\u001b[0m \u001b[32m━━━━━━━━━━━━━━━━━━━━\u001b[0m\u001b[37m\u001b[0m \u001b[1m0s\u001b[0m 20ms/step - accuracy: 0.9193 - loss: 0.2670 - val_accuracy: 0.9474 - val_loss: 0.1945\n",
            "Epoch 20/100\n",
            "\u001b[1m12/12\u001b[0m \u001b[32m━━━━━━━━━━━━━━━━━━━━\u001b[0m\u001b[37m\u001b[0m \u001b[1m0s\u001b[0m 18ms/step - accuracy: 0.9521 - loss: 0.2153 - val_accuracy: 0.9474 - val_loss: 0.1813\n",
            "Epoch 21/100\n",
            "\u001b[1m12/12\u001b[0m \u001b[32m━━━━━━━━━━━━━━━━━━━━\u001b[0m\u001b[37m\u001b[0m \u001b[1m0s\u001b[0m 21ms/step - accuracy: 0.9235 - loss: 0.2572 - val_accuracy: 0.9474 - val_loss: 0.1732\n",
            "Epoch 22/100\n",
            "\u001b[1m12/12\u001b[0m \u001b[32m━━━━━━━━━━━━━━━━━━━━\u001b[0m\u001b[37m\u001b[0m \u001b[1m0s\u001b[0m 20ms/step - accuracy: 0.9334 - loss: 0.2541 - val_accuracy: 0.9474 - val_loss: 0.1680\n",
            "Epoch 23/100\n",
            "\u001b[1m12/12\u001b[0m \u001b[32m━━━━━━━━━━━━━━━━━━━━\u001b[0m\u001b[37m\u001b[0m \u001b[1m0s\u001b[0m 19ms/step - accuracy: 0.9507 - loss: 0.2084 - val_accuracy: 0.9474 - val_loss: 0.1639\n",
            "Epoch 24/100\n",
            "\u001b[1m12/12\u001b[0m \u001b[32m━━━━━━━━━━━━━━━━━━━━\u001b[0m\u001b[37m\u001b[0m \u001b[1m0s\u001b[0m 18ms/step - accuracy: 0.9593 - loss: 0.1955 - val_accuracy: 0.9684 - val_loss: 0.1609\n",
            "Epoch 25/100\n",
            "\u001b[1m12/12\u001b[0m \u001b[32m━━━━━━━━━━━━━━━━━━━━\u001b[0m\u001b[37m\u001b[0m \u001b[1m0s\u001b[0m 20ms/step - accuracy: 0.9399 - loss: 0.2235 - val_accuracy: 0.9684 - val_loss: 0.1585\n",
            "Epoch 26/100\n",
            "\u001b[1m12/12\u001b[0m \u001b[32m━━━━━━━━━━━━━━━━━━━━\u001b[0m\u001b[37m\u001b[0m \u001b[1m0s\u001b[0m 20ms/step - accuracy: 0.9591 - loss: 0.1915 - val_accuracy: 0.9684 - val_loss: 0.1566\n",
            "Epoch 27/100\n",
            "\u001b[1m12/12\u001b[0m \u001b[32m━━━━━━━━━━━━━━━━━━━━\u001b[0m\u001b[37m\u001b[0m \u001b[1m0s\u001b[0m 17ms/step - accuracy: 0.9455 - loss: 0.2113 - val_accuracy: 0.9684 - val_loss: 0.1555\n",
            "Epoch 28/100\n",
            "\u001b[1m12/12\u001b[0m \u001b[32m━━━━━━━━━━━━━━━━━━━━\u001b[0m\u001b[37m\u001b[0m \u001b[1m0s\u001b[0m 18ms/step - accuracy: 0.9471 - loss: 0.2115 - val_accuracy: 0.9684 - val_loss: 0.1540\n",
            "Epoch 29/100\n",
            "\u001b[1m12/12\u001b[0m \u001b[32m━━━━━━━━━━━━━━━━━━━━\u001b[0m\u001b[37m\u001b[0m \u001b[1m0s\u001b[0m 18ms/step - accuracy: 0.9279 - loss: 0.2757 - val_accuracy: 0.9684 - val_loss: 0.1534\n",
            "Epoch 30/100\n",
            "\u001b[1m12/12\u001b[0m \u001b[32m━━━━━━━━━━━━━━━━━━━━\u001b[0m\u001b[37m\u001b[0m \u001b[1m0s\u001b[0m 19ms/step - accuracy: 0.9590 - loss: 0.1920 - val_accuracy: 0.9684 - val_loss: 0.1515\n",
            "Epoch 31/100\n",
            "\u001b[1m12/12\u001b[0m \u001b[32m━━━━━━━━━━━━━━━━━━━━\u001b[0m\u001b[37m\u001b[0m \u001b[1m0s\u001b[0m 18ms/step - accuracy: 0.9479 - loss: 0.2044 - val_accuracy: 0.9684 - val_loss: 0.1512\n",
            "Epoch 32/100\n",
            "\u001b[1m12/12\u001b[0m \u001b[32m━━━━━━━━━━━━━━━━━━━━\u001b[0m\u001b[37m\u001b[0m \u001b[1m0s\u001b[0m 18ms/step - accuracy: 0.9493 - loss: 0.2008 - val_accuracy: 0.9684 - val_loss: 0.1502\n",
            "Epoch 33/100\n",
            "\u001b[1m12/12\u001b[0m \u001b[32m━━━━━━━━━━━━━━━━━━━━\u001b[0m\u001b[37m\u001b[0m \u001b[1m0s\u001b[0m 21ms/step - accuracy: 0.9556 - loss: 0.1893 - val_accuracy: 0.9684 - val_loss: 0.1500\n",
            "Epoch 34/100\n",
            "\u001b[1m12/12\u001b[0m \u001b[32m━━━━━━━━━━━━━━━━━━━━\u001b[0m\u001b[37m\u001b[0m \u001b[1m0s\u001b[0m 18ms/step - accuracy: 0.9566 - loss: 0.1988 - val_accuracy: 0.9684 - val_loss: 0.1499\n",
            "Epoch 35/100\n",
            "\u001b[1m12/12\u001b[0m \u001b[32m━━━━━━━━━━━━━━━━━━━━\u001b[0m\u001b[37m\u001b[0m \u001b[1m0s\u001b[0m 21ms/step - accuracy: 0.9508 - loss: 0.1946 - val_accuracy: 0.9684 - val_loss: 0.1496\n",
            "Epoch 36/100\n",
            "\u001b[1m12/12\u001b[0m \u001b[32m━━━━━━━━━━━━━━━━━━━━\u001b[0m\u001b[37m\u001b[0m \u001b[1m0s\u001b[0m 18ms/step - accuracy: 0.9421 - loss: 0.2358 - val_accuracy: 0.9684 - val_loss: 0.1500\n",
            "Epoch 37/100\n",
            "\u001b[1m12/12\u001b[0m \u001b[32m━━━━━━━━━━━━━━━━━━━━\u001b[0m\u001b[37m\u001b[0m \u001b[1m0s\u001b[0m 22ms/step - accuracy: 0.9610 - loss: 0.1691 - val_accuracy: 0.9684 - val_loss: 0.1494\n",
            "Epoch 38/100\n",
            "\u001b[1m12/12\u001b[0m \u001b[32m━━━━━━━━━━━━━━━━━━━━\u001b[0m\u001b[37m\u001b[0m \u001b[1m0s\u001b[0m 17ms/step - accuracy: 0.9532 - loss: 0.1898 - val_accuracy: 0.9684 - val_loss: 0.1489\n",
            "Epoch 39/100\n",
            "\u001b[1m12/12\u001b[0m \u001b[32m━━━━━━━━━━━━━━━━━━━━\u001b[0m\u001b[37m\u001b[0m \u001b[1m0s\u001b[0m 24ms/step - accuracy: 0.9402 - loss: 0.2268 - val_accuracy: 0.9684 - val_loss: 0.1485\n",
            "Epoch 40/100\n",
            "\u001b[1m12/12\u001b[0m \u001b[32m━━━━━━━━━━━━━━━━━━━━\u001b[0m\u001b[37m\u001b[0m \u001b[1m1s\u001b[0m 28ms/step - accuracy: 0.9532 - loss: 0.1862 - val_accuracy: 0.9684 - val_loss: 0.1479\n",
            "Epoch 41/100\n",
            "\u001b[1m12/12\u001b[0m \u001b[32m━━━━━━━━━━━━━━━━━━━━\u001b[0m\u001b[37m\u001b[0m \u001b[1m0s\u001b[0m 28ms/step - accuracy: 0.9717 - loss: 0.1392 - val_accuracy: 0.9684 - val_loss: 0.1472\n",
            "Epoch 42/100\n",
            "\u001b[1m12/12\u001b[0m \u001b[32m━━━━━━━━━━━━━━━━━━━━\u001b[0m\u001b[37m\u001b[0m \u001b[1m0s\u001b[0m 30ms/step - accuracy: 0.9568 - loss: 0.1794 - val_accuracy: 0.9684 - val_loss: 0.1474\n",
            "Epoch 43/100\n",
            "\u001b[1m12/12\u001b[0m \u001b[32m━━━━━━━━━━━━━━━━━━━━\u001b[0m\u001b[37m\u001b[0m \u001b[1m1s\u001b[0m 29ms/step - accuracy: 0.9354 - loss: 0.2381 - val_accuracy: 0.9684 - val_loss: 0.1482\n",
            "Epoch 44/100\n",
            "\u001b[1m12/12\u001b[0m \u001b[32m━━━━━━━━━━━━━━━━━━━━\u001b[0m\u001b[37m\u001b[0m \u001b[1m1s\u001b[0m 20ms/step - accuracy: 0.9476 - loss: 0.2037 - val_accuracy: 0.9684 - val_loss: 0.1474\n",
            "Epoch 45/100\n",
            "\u001b[1m12/12\u001b[0m \u001b[32m━━━━━━━━━━━━━━━━━━━━\u001b[0m\u001b[37m\u001b[0m \u001b[1m0s\u001b[0m 20ms/step - accuracy: 0.9544 - loss: 0.1860 - val_accuracy: 0.9684 - val_loss: 0.1476\n",
            "Epoch 46/100\n",
            "\u001b[1m12/12\u001b[0m \u001b[32m━━━━━━━━━━━━━━━━━━━━\u001b[0m\u001b[37m\u001b[0m \u001b[1m0s\u001b[0m 21ms/step - accuracy: 0.9523 - loss: 0.1911 - val_accuracy: 0.9684 - val_loss: 0.1482\n",
            "Epoch 47/100\n",
            "\u001b[1m12/12\u001b[0m \u001b[32m━━━━━━━━━━━━━━━━━━━━\u001b[0m\u001b[37m\u001b[0m \u001b[1m0s\u001b[0m 22ms/step - accuracy: 0.9523 - loss: 0.1893 - val_accuracy: 0.9684 - val_loss: 0.1484\n",
            "Epoch 48/100\n",
            "\u001b[1m12/12\u001b[0m \u001b[32m━━━━━━━━━━━━━━━━━━━━\u001b[0m\u001b[37m\u001b[0m \u001b[1m0s\u001b[0m 23ms/step - accuracy: 0.9501 - loss: 0.1929 - val_accuracy: 0.9684 - val_loss: 0.1482\n",
            "Epoch 49/100\n",
            "\u001b[1m12/12\u001b[0m \u001b[32m━━━━━━━━━━━━━━━━━━━━\u001b[0m\u001b[37m\u001b[0m \u001b[1m0s\u001b[0m 21ms/step - accuracy: 0.9469 - loss: 0.2040 - val_accuracy: 0.9684 - val_loss: 0.1485\n",
            "Epoch 50/100\n",
            "\u001b[1m12/12\u001b[0m \u001b[32m━━━━━━━━━━━━━━━━━━━━\u001b[0m\u001b[37m\u001b[0m \u001b[1m0s\u001b[0m 18ms/step - accuracy: 0.9495 - loss: 0.1985 - val_accuracy: 0.9684 - val_loss: 0.1485\n",
            "Epoch 51/100\n",
            "\u001b[1m12/12\u001b[0m \u001b[32m━━━━━━━━━━━━━━━━━━━━\u001b[0m\u001b[37m\u001b[0m \u001b[1m0s\u001b[0m 20ms/step - accuracy: 0.9574 - loss: 0.1744 - val_accuracy: 0.9684 - val_loss: 0.1485\n",
            "Epoch 52/100\n",
            "\u001b[1m12/12\u001b[0m \u001b[32m━━━━━━━━━━━━━━━━━━━━\u001b[0m\u001b[37m\u001b[0m \u001b[1m0s\u001b[0m 21ms/step - accuracy: 0.9480 - loss: 0.2060 - val_accuracy: 0.9684 - val_loss: 0.1486\n",
            "Epoch 53/100\n",
            "\u001b[1m12/12\u001b[0m \u001b[32m━━━━━━━━━━━━━━━━━━━━\u001b[0m\u001b[37m\u001b[0m \u001b[1m0s\u001b[0m 18ms/step - accuracy: 0.9341 - loss: 0.2228 - val_accuracy: 0.9684 - val_loss: 0.1481\n",
            "Epoch 54/100\n",
            "\u001b[1m12/12\u001b[0m \u001b[32m━━━━━━━━━━━━━━━━━━━━\u001b[0m\u001b[37m\u001b[0m \u001b[1m0s\u001b[0m 18ms/step - accuracy: 0.9377 - loss: 0.2367 - val_accuracy: 0.9684 - val_loss: 0.1485\n",
            "Epoch 55/100\n",
            "\u001b[1m12/12\u001b[0m \u001b[32m━━━━━━━━━━━━━━━━━━━━\u001b[0m\u001b[37m\u001b[0m \u001b[1m0s\u001b[0m 18ms/step - accuracy: 0.9432 - loss: 0.2227 - val_accuracy: 0.9684 - val_loss: 0.1488\n",
            "Epoch 56/100\n",
            "\u001b[1m12/12\u001b[0m \u001b[32m━━━━━━━━━━━━━━━━━━━━\u001b[0m\u001b[37m\u001b[0m \u001b[1m0s\u001b[0m 18ms/step - accuracy: 0.9335 - loss: 0.2428 - val_accuracy: 0.9684 - val_loss: 0.1492\n",
            "Epoch 57/100\n",
            "\u001b[1m12/12\u001b[0m \u001b[32m━━━━━━━━━━━━━━━━━━━━\u001b[0m\u001b[37m\u001b[0m \u001b[1m0s\u001b[0m 18ms/step - accuracy: 0.9450 - loss: 0.2058 - val_accuracy: 0.9684 - val_loss: 0.1487\n",
            "Epoch 58/100\n",
            "\u001b[1m12/12\u001b[0m \u001b[32m━━━━━━━━━━━━━━━━━━━━\u001b[0m\u001b[37m\u001b[0m \u001b[1m0s\u001b[0m 18ms/step - accuracy: 0.9600 - loss: 0.1620 - val_accuracy: 0.9684 - val_loss: 0.1489\n",
            "Epoch 59/100\n",
            "\u001b[1m12/12\u001b[0m \u001b[32m━━━━━━━━━━━━━━━━━━━━\u001b[0m\u001b[37m\u001b[0m \u001b[1m0s\u001b[0m 17ms/step - accuracy: 0.9443 - loss: 0.2120 - val_accuracy: 0.9684 - val_loss: 0.1491\n",
            "Epoch 60/100\n",
            "\u001b[1m12/12\u001b[0m \u001b[32m━━━━━━━━━━━━━━━━━━━━\u001b[0m\u001b[37m\u001b[0m \u001b[1m0s\u001b[0m 18ms/step - accuracy: 0.9542 - loss: 0.1984 - val_accuracy: 0.9684 - val_loss: 0.1489\n",
            "Epoch 61/100\n",
            "\u001b[1m12/12\u001b[0m \u001b[32m━━━━━━━━━━━━━━━━━━━━\u001b[0m\u001b[37m\u001b[0m \u001b[1m0s\u001b[0m 20ms/step - accuracy: 0.9462 - loss: 0.1931 - val_accuracy: 0.9684 - val_loss: 0.1493\n",
            "Epoch 62/100\n",
            "\u001b[1m12/12\u001b[0m \u001b[32m━━━━━━━━━━━━━━━━━━━━\u001b[0m\u001b[37m\u001b[0m \u001b[1m0s\u001b[0m 20ms/step - accuracy: 0.9585 - loss: 0.1691 - val_accuracy: 0.9684 - val_loss: 0.1496\n",
            "Epoch 63/100\n",
            "\u001b[1m12/12\u001b[0m \u001b[32m━━━━━━━━━━━━━━━━━━━━\u001b[0m\u001b[37m\u001b[0m \u001b[1m0s\u001b[0m 19ms/step - accuracy: 0.9391 - loss: 0.2166 - val_accuracy: 0.9684 - val_loss: 0.1505\n",
            "Epoch 64/100\n",
            "\u001b[1m12/12\u001b[0m \u001b[32m━━━━━━━━━━━━━━━━━━━━\u001b[0m\u001b[37m\u001b[0m \u001b[1m0s\u001b[0m 18ms/step - accuracy: 0.9455 - loss: 0.2056 - val_accuracy: 0.9684 - val_loss: 0.1507\n",
            "Epoch 65/100\n",
            "\u001b[1m12/12\u001b[0m \u001b[32m━━━━━━━━━━━━━━━━━━━━\u001b[0m\u001b[37m\u001b[0m \u001b[1m0s\u001b[0m 18ms/step - accuracy: 0.9413 - loss: 0.2148 - val_accuracy: 0.9684 - val_loss: 0.1506\n",
            "Epoch 66/100\n",
            "\u001b[1m12/12\u001b[0m \u001b[32m━━━━━━━━━━━━━━━━━━━━\u001b[0m\u001b[37m\u001b[0m \u001b[1m0s\u001b[0m 19ms/step - accuracy: 0.9489 - loss: 0.2060 - val_accuracy: 0.9684 - val_loss: 0.1507\n",
            "Epoch 67/100\n",
            "\u001b[1m12/12\u001b[0m \u001b[32m━━━━━━━━━━━━━━━━━━━━\u001b[0m\u001b[37m\u001b[0m \u001b[1m0s\u001b[0m 19ms/step - accuracy: 0.9591 - loss: 0.1804 - val_accuracy: 0.9684 - val_loss: 0.1505\n",
            "Epoch 68/100\n",
            "\u001b[1m12/12\u001b[0m \u001b[32m━━━━━━━━━━━━━━━━━━━━\u001b[0m\u001b[37m\u001b[0m \u001b[1m0s\u001b[0m 17ms/step - accuracy: 0.9558 - loss: 0.1784 - val_accuracy: 0.9684 - val_loss: 0.1501\n",
            "Epoch 69/100\n",
            "\u001b[1m12/12\u001b[0m \u001b[32m━━━━━━━━━━━━━━━━━━━━\u001b[0m\u001b[37m\u001b[0m \u001b[1m0s\u001b[0m 17ms/step - accuracy: 0.9348 - loss: 0.2362 - val_accuracy: 0.9684 - val_loss: 0.1510\n",
            "Epoch 70/100\n",
            "\u001b[1m12/12\u001b[0m \u001b[32m━━━━━━━━━━━━━━━━━━━━\u001b[0m\u001b[37m\u001b[0m \u001b[1m0s\u001b[0m 18ms/step - accuracy: 0.9465 - loss: 0.1990 - val_accuracy: 0.9684 - val_loss: 0.1513\n",
            "Epoch 71/100\n",
            "\u001b[1m12/12\u001b[0m \u001b[32m━━━━━━━━━━━━━━━━━━━━\u001b[0m\u001b[37m\u001b[0m \u001b[1m0s\u001b[0m 22ms/step - accuracy: 0.9501 - loss: 0.1884 - val_accuracy: 0.9684 - val_loss: 0.1513\n",
            "Epoch 72/100\n",
            "\u001b[1m12/12\u001b[0m \u001b[32m━━━━━━━━━━━━━━━━━━━━\u001b[0m\u001b[37m\u001b[0m \u001b[1m0s\u001b[0m 18ms/step - accuracy: 0.9517 - loss: 0.1826 - val_accuracy: 0.9684 - val_loss: 0.1510\n",
            "Epoch 73/100\n",
            "\u001b[1m12/12\u001b[0m \u001b[32m━━━━━━━━━━━━━━━━━━━━\u001b[0m\u001b[37m\u001b[0m \u001b[1m0s\u001b[0m 18ms/step - accuracy: 0.9580 - loss: 0.1650 - val_accuracy: 0.9684 - val_loss: 0.1509\n",
            "Epoch 74/100\n",
            "\u001b[1m12/12\u001b[0m \u001b[32m━━━━━━━━━━━━━━━━━━━━\u001b[0m\u001b[37m\u001b[0m \u001b[1m0s\u001b[0m 21ms/step - accuracy: 0.9371 - loss: 0.2362 - val_accuracy: 0.9684 - val_loss: 0.1510\n",
            "Epoch 75/100\n",
            "\u001b[1m12/12\u001b[0m \u001b[32m━━━━━━━━━━━━━━━━━━━━\u001b[0m\u001b[37m\u001b[0m \u001b[1m0s\u001b[0m 22ms/step - accuracy: 0.9517 - loss: 0.1705 - val_accuracy: 0.9684 - val_loss: 0.1507\n",
            "Epoch 76/100\n",
            "\u001b[1m12/12\u001b[0m \u001b[32m━━━━━━━━━━━━━━━━━━━━\u001b[0m\u001b[37m\u001b[0m \u001b[1m0s\u001b[0m 18ms/step - accuracy: 0.9544 - loss: 0.1883 - val_accuracy: 0.9684 - val_loss: 0.1508\n",
            "Epoch 77/100\n",
            "\u001b[1m12/12\u001b[0m \u001b[32m━━━━━━━━━━━━━━━━━━━━\u001b[0m\u001b[37m\u001b[0m \u001b[1m0s\u001b[0m 18ms/step - accuracy: 0.9448 - loss: 0.1931 - val_accuracy: 0.9684 - val_loss: 0.1512\n",
            "Epoch 78/100\n",
            "\u001b[1m12/12\u001b[0m \u001b[32m━━━━━━━━━━━━━━━━━━━━\u001b[0m\u001b[37m\u001b[0m \u001b[1m0s\u001b[0m 19ms/step - accuracy: 0.9499 - loss: 0.1894 - val_accuracy: 0.9684 - val_loss: 0.1514\n",
            "Epoch 79/100\n",
            "\u001b[1m12/12\u001b[0m \u001b[32m━━━━━━━━━━━━━━━━━━━━\u001b[0m\u001b[37m\u001b[0m \u001b[1m0s\u001b[0m 25ms/step - accuracy: 0.9500 - loss: 0.1860 - val_accuracy: 0.9684 - val_loss: 0.1517\n",
            "Epoch 80/100\n",
            "\u001b[1m12/12\u001b[0m \u001b[32m━━━━━━━━━━━━━━━━━━━━\u001b[0m\u001b[37m\u001b[0m \u001b[1m1s\u001b[0m 28ms/step - accuracy: 0.9446 - loss: 0.2100 - val_accuracy: 0.9684 - val_loss: 0.1527\n",
            "Epoch 81/100\n",
            "\u001b[1m12/12\u001b[0m \u001b[32m━━━━━━━━━━━━━━━━━━━━\u001b[0m\u001b[37m\u001b[0m \u001b[1m1s\u001b[0m 31ms/step - accuracy: 0.9429 - loss: 0.2145 - val_accuracy: 0.9684 - val_loss: 0.1530\n",
            "Epoch 82/100\n",
            "\u001b[1m12/12\u001b[0m \u001b[32m━━━━━━━━━━━━━━━━━━━━\u001b[0m\u001b[37m\u001b[0m \u001b[1m0s\u001b[0m 30ms/step - accuracy: 0.9260 - loss: 0.2542 - val_accuracy: 0.9684 - val_loss: 0.1529\n",
            "Epoch 83/100\n",
            "\u001b[1m12/12\u001b[0m \u001b[32m━━━━━━━━━━━━━━━━━━━━\u001b[0m\u001b[37m\u001b[0m \u001b[1m0s\u001b[0m 28ms/step - accuracy: 0.9445 - loss: 0.1982 - val_accuracy: 0.9684 - val_loss: 0.1529\n",
            "Epoch 84/100\n",
            "\u001b[1m12/12\u001b[0m \u001b[32m━━━━━━━━━━━━━━━━━━━━\u001b[0m\u001b[37m\u001b[0m \u001b[1m1s\u001b[0m 20ms/step - accuracy: 0.9548 - loss: 0.1778 - val_accuracy: 0.9684 - val_loss: 0.1534\n",
            "Epoch 85/100\n",
            "\u001b[1m12/12\u001b[0m \u001b[32m━━━━━━━━━━━━━━━━━━━━\u001b[0m\u001b[37m\u001b[0m \u001b[1m0s\u001b[0m 19ms/step - accuracy: 0.9462 - loss: 0.2035 - val_accuracy: 0.9684 - val_loss: 0.1533\n",
            "Epoch 86/100\n",
            "\u001b[1m12/12\u001b[0m \u001b[32m━━━━━━━━━━━━━━━━━━━━\u001b[0m\u001b[37m\u001b[0m \u001b[1m0s\u001b[0m 19ms/step - accuracy: 0.9491 - loss: 0.2042 - val_accuracy: 0.9684 - val_loss: 0.1539\n",
            "Epoch 87/100\n",
            "\u001b[1m12/12\u001b[0m \u001b[32m━━━━━━━━━━━━━━━━━━━━\u001b[0m\u001b[37m\u001b[0m \u001b[1m0s\u001b[0m 18ms/step - accuracy: 0.9560 - loss: 0.1626 - val_accuracy: 0.9684 - val_loss: 0.1542\n",
            "Epoch 88/100\n",
            "\u001b[1m12/12\u001b[0m \u001b[32m━━━━━━━━━━━━━━━━━━━━\u001b[0m\u001b[37m\u001b[0m \u001b[1m0s\u001b[0m 19ms/step - accuracy: 0.9348 - loss: 0.2484 - val_accuracy: 0.9684 - val_loss: 0.1544\n",
            "Epoch 89/100\n",
            "\u001b[1m12/12\u001b[0m \u001b[32m━━━━━━━━━━━━━━━━━━━━\u001b[0m\u001b[37m\u001b[0m \u001b[1m0s\u001b[0m 18ms/step - accuracy: 0.9352 - loss: 0.2289 - val_accuracy: 0.9684 - val_loss: 0.1543\n",
            "Epoch 90/100\n",
            "\u001b[1m12/12\u001b[0m \u001b[32m━━━━━━━━━━━━━━━━━━━━\u001b[0m\u001b[37m\u001b[0m \u001b[1m0s\u001b[0m 18ms/step - accuracy: 0.9434 - loss: 0.2104 - val_accuracy: 0.9684 - val_loss: 0.1547\n",
            "Epoch 91/100\n",
            "\u001b[1m12/12\u001b[0m \u001b[32m━━━━━━━━━━━━━━━━━━━━\u001b[0m\u001b[37m\u001b[0m \u001b[1m0s\u001b[0m 21ms/step - accuracy: 0.9595 - loss: 0.1665 - val_accuracy: 0.9684 - val_loss: 0.1543\n",
            "Epoch 92/100\n",
            "\u001b[1m12/12\u001b[0m \u001b[32m━━━━━━━━━━━━━━━━━━━━\u001b[0m\u001b[37m\u001b[0m \u001b[1m0s\u001b[0m 19ms/step - accuracy: 0.9597 - loss: 0.1631 - val_accuracy: 0.9684 - val_loss: 0.1547\n",
            "Epoch 93/100\n",
            "\u001b[1m12/12\u001b[0m \u001b[32m━━━━━━━━━━━━━━━━━━━━\u001b[0m\u001b[37m\u001b[0m \u001b[1m0s\u001b[0m 18ms/step - accuracy: 0.9395 - loss: 0.2165 - val_accuracy: 0.9684 - val_loss: 0.1553\n",
            "Epoch 94/100\n",
            "\u001b[1m12/12\u001b[0m \u001b[32m━━━━━━━━━━━━━━━━━━━━\u001b[0m\u001b[37m\u001b[0m \u001b[1m0s\u001b[0m 18ms/step - accuracy: 0.9439 - loss: 0.2149 - val_accuracy: 0.9684 - val_loss: 0.1550\n",
            "Epoch 95/100\n",
            "\u001b[1m12/12\u001b[0m \u001b[32m━━━━━━━━━━━━━━━━━━━━\u001b[0m\u001b[37m\u001b[0m \u001b[1m0s\u001b[0m 18ms/step - accuracy: 0.9349 - loss: 0.2321 - val_accuracy: 0.9684 - val_loss: 0.1553\n",
            "Epoch 96/100\n",
            "\u001b[1m12/12\u001b[0m \u001b[32m━━━━━━━━━━━━━━━━━━━━\u001b[0m\u001b[37m\u001b[0m \u001b[1m0s\u001b[0m 19ms/step - accuracy: 0.9604 - loss: 0.1671 - val_accuracy: 0.9684 - val_loss: 0.1555\n",
            "Epoch 97/100\n",
            "\u001b[1m12/12\u001b[0m \u001b[32m━━━━━━━━━━━━━━━━━━━━\u001b[0m\u001b[37m\u001b[0m \u001b[1m0s\u001b[0m 18ms/step - accuracy: 0.9490 - loss: 0.1934 - val_accuracy: 0.9684 - val_loss: 0.1555\n",
            "Epoch 98/100\n",
            "\u001b[1m12/12\u001b[0m \u001b[32m━━━━━━━━━━━━━━━━━━━━\u001b[0m\u001b[37m\u001b[0m \u001b[1m0s\u001b[0m 20ms/step - accuracy: 0.9332 - loss: 0.2188 - val_accuracy: 0.9684 - val_loss: 0.1567\n",
            "Epoch 99/100\n",
            "\u001b[1m12/12\u001b[0m \u001b[32m━━━━━━━━━━━━━━━━━━━━\u001b[0m\u001b[37m\u001b[0m \u001b[1m0s\u001b[0m 18ms/step - accuracy: 0.9429 - loss: 0.2127 - val_accuracy: 0.9684 - val_loss: 0.1564\n",
            "Epoch 100/100\n",
            "\u001b[1m12/12\u001b[0m \u001b[32m━━━━━━━━━━━━━━━━━━━━\u001b[0m\u001b[37m\u001b[0m \u001b[1m0s\u001b[0m 19ms/step - accuracy: 0.9518 - loss: 0.1813 - val_accuracy: 0.9684 - val_loss: 0.1566\n"
          ]
        }
      ]
    },
    {
      "cell_type": "code",
      "source": [
        "def build_model(hp):\n",
        "    model = Sequential()\n",
        "    model.add(LSTM(\n",
        "        units=hp.Int('units_1', min_value=32, max_value=128, step=16),\n",
        "        input_shape=(timesteps, n_features),\n",
        "        return_sequences=True,\n",
        "        activation='relu'\n",
        "    ))\n",
        "    model.add(Dropout(hp.Float('dropout_1', min_value=0.1, max_value=0.5, step=0.1)))\n",
        "\n",
        "    model.add(LSTM(\n",
        "        units=hp.Int('units_2', min_value=32, max_value=128, step=16),\n",
        "        activation='relu'\n",
        "    ))\n",
        "    model.add(Dropout(hp.Float('dropout_2', min_value=0.1, max_value=0.5, step=0.1)))\n",
        "\n",
        "\n",
        "    model.add(Dense(1, activation='sigmoid'))\n",
        "\n",
        "\n",
        "    model.compile(\n",
        "        optimizer=Adam(learning_rate=hp.Choice('learning_rate', values=[1e-2, 1e-3, 1e-4])),\n",
        "        loss='binary_crossentropy',\n",
        "        metrics=['accuracy']\n",
        "    )\n",
        "    return model"
      ],
      "metadata": {
        "id": "HlZLDAsQ2msa"
      },
      "execution_count": null,
      "outputs": []
    },
    {
      "cell_type": "code",
      "source": [
        "pip install keras_tuner"
      ],
      "metadata": {
        "colab": {
          "base_uri": "https://localhost:8080/"
        },
        "collapsed": true,
        "id": "oUuZhHtc28fd",
        "outputId": "d6c4f9bf-7732-4296-8a48-7f751c1d03d2"
      },
      "execution_count": null,
      "outputs": [
        {
          "output_type": "stream",
          "name": "stdout",
          "text": [
            "Collecting keras_tuner\n",
            "  Downloading keras_tuner-1.4.7-py3-none-any.whl.metadata (5.4 kB)\n",
            "Requirement already satisfied: keras in /usr/local/lib/python3.11/dist-packages (from keras_tuner) (3.8.0)\n",
            "Requirement already satisfied: packaging in /usr/local/lib/python3.11/dist-packages (from keras_tuner) (24.2)\n",
            "Requirement already satisfied: requests in /usr/local/lib/python3.11/dist-packages (from keras_tuner) (2.32.3)\n",
            "Collecting kt-legacy (from keras_tuner)\n",
            "  Downloading kt_legacy-1.0.5-py3-none-any.whl.metadata (221 bytes)\n",
            "Requirement already satisfied: absl-py in /usr/local/lib/python3.11/dist-packages (from keras->keras_tuner) (1.4.0)\n",
            "Requirement already satisfied: numpy in /usr/local/lib/python3.11/dist-packages (from keras->keras_tuner) (2.0.2)\n",
            "Requirement already satisfied: rich in /usr/local/lib/python3.11/dist-packages (from keras->keras_tuner) (13.9.4)\n",
            "Requirement already satisfied: namex in /usr/local/lib/python3.11/dist-packages (from keras->keras_tuner) (0.0.8)\n",
            "Requirement already satisfied: h5py in /usr/local/lib/python3.11/dist-packages (from keras->keras_tuner) (3.13.0)\n",
            "Requirement already satisfied: optree in /usr/local/lib/python3.11/dist-packages (from keras->keras_tuner) (0.14.1)\n",
            "Requirement already satisfied: ml-dtypes in /usr/local/lib/python3.11/dist-packages (from keras->keras_tuner) (0.4.1)\n",
            "Requirement already satisfied: charset-normalizer<4,>=2 in /usr/local/lib/python3.11/dist-packages (from requests->keras_tuner) (3.4.1)\n",
            "Requirement already satisfied: idna<4,>=2.5 in /usr/local/lib/python3.11/dist-packages (from requests->keras_tuner) (3.10)\n",
            "Requirement already satisfied: urllib3<3,>=1.21.1 in /usr/local/lib/python3.11/dist-packages (from requests->keras_tuner) (2.3.0)\n",
            "Requirement already satisfied: certifi>=2017.4.17 in /usr/local/lib/python3.11/dist-packages (from requests->keras_tuner) (2025.1.31)\n",
            "Requirement already satisfied: typing-extensions>=4.5.0 in /usr/local/lib/python3.11/dist-packages (from optree->keras->keras_tuner) (4.13.1)\n",
            "Requirement already satisfied: markdown-it-py>=2.2.0 in /usr/local/lib/python3.11/dist-packages (from rich->keras->keras_tuner) (3.0.0)\n",
            "Requirement already satisfied: pygments<3.0.0,>=2.13.0 in /usr/local/lib/python3.11/dist-packages (from rich->keras->keras_tuner) (2.18.0)\n",
            "Requirement already satisfied: mdurl~=0.1 in /usr/local/lib/python3.11/dist-packages (from markdown-it-py>=2.2.0->rich->keras->keras_tuner) (0.1.2)\n",
            "Downloading keras_tuner-1.4.7-py3-none-any.whl (129 kB)\n",
            "\u001b[2K   \u001b[90m━━━━━━━━━━━━━━━━━━━━━━━━━━━━━━━━━━━━━━━━\u001b[0m \u001b[32m129.1/129.1 kB\u001b[0m \u001b[31m9.9 MB/s\u001b[0m eta \u001b[36m0:00:00\u001b[0m\n",
            "\u001b[?25hDownloading kt_legacy-1.0.5-py3-none-any.whl (9.6 kB)\n",
            "Installing collected packages: kt-legacy, keras_tuner\n",
            "Successfully installed keras_tuner-1.4.7 kt-legacy-1.0.5\n"
          ]
        }
      ]
    },
    {
      "cell_type": "code",
      "source": [
        "# Hyperparameter tuning\n",
        "import keras_tuner as kt\n",
        "\n",
        "tuner = kt.RandomSearch(\n",
        "    build_model,\n",
        "    objective='val_accuracy',\n",
        "    max_trials=20,\n",
        "    executions_per_trial=2,\n",
        "    directory='lstm_hyperparameter_tuning',\n",
        "    project_name='satellite_collision_prediction'\n",
        ")\n",
        "\n",
        "# Run hyperparameter search\n",
        "tuner.search(X_train, y_train, validation_data=(X_test, y_test), epochs=10, batch_size=32)\n",
        "\n",
        "# Get the best hyperparameters\n",
        "best_hps = tuner.get_best_hyperparameters(num_trials=1)[0]\n",
        "\n",
        "print(f\"\"\"\n",
        "The optimal number of units in the first LSTM layer is {best_hps.get('units_1')},\n",
        "the number of units in the second LSTM layer is {best_hps.get('units_2')},\n",
        "the optimal dropout rates are {best_hps.get('dropout_1')} and {best_hps.get('dropout_2')},\n",
        "and the best learning rate is {best_hps.get('learning_rate')}.\n",
        "\"\"\")"
      ],
      "metadata": {
        "colab": {
          "base_uri": "https://localhost:8080/"
        },
        "id": "ndk8UIux2zMK",
        "outputId": "66e44380-5583-450c-bbe1-ccb174cfeda3"
      },
      "execution_count": null,
      "outputs": [
        {
          "output_type": "stream",
          "name": "stdout",
          "text": [
            "Trial 20 Complete [00h 00m 26s]\n",
            "val_accuracy: 0.9684210419654846\n",
            "\n",
            "Best val_accuracy So Far: 0.9684210419654846\n",
            "Total elapsed time: 00h 07m 17s\n",
            "\n",
            "The optimal number of units in the first LSTM layer is 64,\n",
            "the number of units in the second LSTM layer is 64,\n",
            "the optimal dropout rates are 0.1 and 0.1,\n",
            "and the best learning rate is 0.01.\n",
            "\n"
          ]
        }
      ]
    },
    {
      "cell_type": "code",
      "source": [
        "# Use best hyperparameters found\n",
        "final_model = tuner.hypermodel.build(best_hps)\n",
        "final_model.fit(X_train, y_train, validation_data=(X_test, y_test), epochs=30, batch_size=32)\n",
        "\n",
        "# Evaluate the model\n",
        "loss, accuracy = final_model.evaluate(X_test, y_test)\n",
        "print(f\"\\nFinal Model Test Accuracy: {accuracy * 100:.2f}%\")"
      ],
      "metadata": {
        "colab": {
          "base_uri": "https://localhost:8080/"
        },
        "id": "cDEIcM2sNykq",
        "outputId": "54411a58-08bc-4608-fa4c-ff76873b4ed2"
      },
      "execution_count": null,
      "outputs": [
        {
          "output_type": "stream",
          "name": "stdout",
          "text": [
            "Epoch 1/30\n",
            "\u001b[1m12/12\u001b[0m \u001b[32m━━━━━━━━━━━━━━━━━━━━\u001b[0m\u001b[37m\u001b[0m \u001b[1m5s\u001b[0m 64ms/step - accuracy: 0.8551 - loss: 0.4998 - val_accuracy: 0.9684 - val_loss: 0.3235\n",
            "Epoch 2/30\n",
            "\u001b[1m12/12\u001b[0m \u001b[32m━━━━━━━━━━━━━━━━━━━━\u001b[0m\u001b[37m\u001b[0m \u001b[1m1s\u001b[0m 19ms/step - accuracy: 0.9532 - loss: 0.3481 - val_accuracy: 0.9684 - val_loss: 0.1451\n",
            "Epoch 3/30\n",
            "\u001b[1m12/12\u001b[0m \u001b[32m━━━━━━━━━━━━━━━━━━━━\u001b[0m\u001b[37m\u001b[0m \u001b[1m0s\u001b[0m 22ms/step - accuracy: 0.9392 - loss: 0.3178 - val_accuracy: 0.9684 - val_loss: 0.2056\n",
            "Epoch 4/30\n",
            "\u001b[1m12/12\u001b[0m \u001b[32m━━━━━━━━━━━━━━━━━━━━\u001b[0m\u001b[37m\u001b[0m \u001b[1m0s\u001b[0m 19ms/step - accuracy: 0.9512 - loss: 0.2207 - val_accuracy: 0.9684 - val_loss: 0.1605\n",
            "Epoch 5/30\n",
            "\u001b[1m12/12\u001b[0m \u001b[32m━━━━━━━━━━━━━━━━━━━━\u001b[0m\u001b[37m\u001b[0m \u001b[1m0s\u001b[0m 21ms/step - accuracy: 0.9581 - loss: 0.1645 - val_accuracy: 0.9684 - val_loss: 0.1632\n",
            "Epoch 6/30\n",
            "\u001b[1m12/12\u001b[0m \u001b[32m━━━━━━━━━━━━━━━━━━━━\u001b[0m\u001b[37m\u001b[0m \u001b[1m0s\u001b[0m 21ms/step - accuracy: 0.9487 - loss: 0.1968 - val_accuracy: 0.9684 - val_loss: 0.1562\n",
            "Epoch 7/30\n",
            "\u001b[1m12/12\u001b[0m \u001b[32m━━━━━━━━━━━━━━━━━━━━\u001b[0m\u001b[37m\u001b[0m \u001b[1m0s\u001b[0m 21ms/step - accuracy: 0.9566 - loss: 0.1739 - val_accuracy: 0.9684 - val_loss: 0.1537\n",
            "Epoch 8/30\n",
            "\u001b[1m12/12\u001b[0m \u001b[32m━━━━━━━━━━━━━━━━━━━━\u001b[0m\u001b[37m\u001b[0m \u001b[1m0s\u001b[0m 20ms/step - accuracy: 0.9496 - loss: 0.1951 - val_accuracy: 0.9684 - val_loss: 0.2032\n",
            "Epoch 9/30\n",
            "\u001b[1m12/12\u001b[0m \u001b[32m━━━━━━━━━━━━━━━━━━━━\u001b[0m\u001b[37m\u001b[0m \u001b[1m0s\u001b[0m 21ms/step - accuracy: 0.9306 - loss: 0.2509 - val_accuracy: 0.9684 - val_loss: 0.2184\n",
            "Epoch 10/30\n",
            "\u001b[1m12/12\u001b[0m \u001b[32m━━━━━━━━━━━━━━━━━━━━\u001b[0m\u001b[37m\u001b[0m \u001b[1m0s\u001b[0m 19ms/step - accuracy: 0.9549 - loss: 0.1858 - val_accuracy: 0.9684 - val_loss: 0.1432\n",
            "Epoch 11/30\n",
            "\u001b[1m12/12\u001b[0m \u001b[32m━━━━━━━━━━━━━━━━━━━━\u001b[0m\u001b[37m\u001b[0m \u001b[1m0s\u001b[0m 19ms/step - accuracy: 0.9484 - loss: 0.2018 - val_accuracy: 0.9684 - val_loss: 0.1530\n",
            "Epoch 12/30\n",
            "\u001b[1m12/12\u001b[0m \u001b[32m━━━━━━━━━━━━━━━━━━━━\u001b[0m\u001b[37m\u001b[0m \u001b[1m0s\u001b[0m 21ms/step - accuracy: 0.9530 - loss: 0.1942 - val_accuracy: 0.9684 - val_loss: 0.1808\n",
            "Epoch 13/30\n",
            "\u001b[1m12/12\u001b[0m \u001b[32m━━━━━━━━━━━━━━━━━━━━\u001b[0m\u001b[37m\u001b[0m \u001b[1m0s\u001b[0m 19ms/step - accuracy: 0.9356 - loss: 0.2342 - val_accuracy: 0.9684 - val_loss: 0.1454\n",
            "Epoch 14/30\n",
            "\u001b[1m12/12\u001b[0m \u001b[32m━━━━━━━━━━━━━━━━━━━━\u001b[0m\u001b[37m\u001b[0m \u001b[1m0s\u001b[0m 19ms/step - accuracy: 0.9444 - loss: 0.2188 - val_accuracy: 0.9684 - val_loss: 0.1526\n",
            "Epoch 15/30\n",
            "\u001b[1m12/12\u001b[0m \u001b[32m━━━━━━━━━━━━━━━━━━━━\u001b[0m\u001b[37m\u001b[0m \u001b[1m0s\u001b[0m 20ms/step - accuracy: 0.9477 - loss: 0.2011 - val_accuracy: 0.9684 - val_loss: 0.1726\n",
            "Epoch 16/30\n",
            "\u001b[1m12/12\u001b[0m \u001b[32m━━━━━━━━━━━━━━━━━━━━\u001b[0m\u001b[37m\u001b[0m \u001b[1m0s\u001b[0m 19ms/step - accuracy: 0.9635 - loss: 0.1478 - val_accuracy: 0.9684 - val_loss: 0.4088\n",
            "Epoch 17/30\n",
            "\u001b[1m12/12\u001b[0m \u001b[32m━━━━━━━━━━━━━━━━━━━━\u001b[0m\u001b[37m\u001b[0m \u001b[1m0s\u001b[0m 21ms/step - accuracy: 0.9588 - loss: 0.1680 - val_accuracy: 0.9684 - val_loss: 0.8765\n",
            "Epoch 18/30\n",
            "\u001b[1m12/12\u001b[0m \u001b[32m━━━━━━━━━━━━━━━━━━━━\u001b[0m\u001b[37m\u001b[0m \u001b[1m0s\u001b[0m 19ms/step - accuracy: 0.9634 - loss: 0.1554 - val_accuracy: 0.9684 - val_loss: 0.6274\n",
            "Epoch 19/30\n",
            "\u001b[1m12/12\u001b[0m \u001b[32m━━━━━━━━━━━━━━━━━━━━\u001b[0m\u001b[37m\u001b[0m \u001b[1m0s\u001b[0m 20ms/step - accuracy: 0.9457 - loss: 0.2051 - val_accuracy: 0.9684 - val_loss: 0.5097\n",
            "Epoch 20/30\n",
            "\u001b[1m12/12\u001b[0m \u001b[32m━━━━━━━━━━━━━━━━━━━━\u001b[0m\u001b[37m\u001b[0m \u001b[1m0s\u001b[0m 22ms/step - accuracy: 0.9597 - loss: 0.1713 - val_accuracy: 0.9684 - val_loss: 1.3938\n",
            "Epoch 21/30\n",
            "\u001b[1m12/12\u001b[0m \u001b[32m━━━━━━━━━━━━━━━━━━━━\u001b[0m\u001b[37m\u001b[0m \u001b[1m0s\u001b[0m 19ms/step - accuracy: 0.9604 - loss: 0.1566 - val_accuracy: 0.9684 - val_loss: 3.3059\n",
            "Epoch 22/30\n",
            "\u001b[1m12/12\u001b[0m \u001b[32m━━━━━━━━━━━━━━━━━━━━\u001b[0m\u001b[37m\u001b[0m \u001b[1m0s\u001b[0m 21ms/step - accuracy: 0.9598 - loss: 0.1579 - val_accuracy: 0.9684 - val_loss: 9.6579\n",
            "Epoch 23/30\n",
            "\u001b[1m12/12\u001b[0m \u001b[32m━━━━━━━━━━━━━━━━━━━━\u001b[0m\u001b[37m\u001b[0m \u001b[1m0s\u001b[0m 23ms/step - accuracy: 0.9436 - loss: 0.1973 - val_accuracy: 0.9684 - val_loss: 14.2601\n",
            "Epoch 24/30\n",
            "\u001b[1m12/12\u001b[0m \u001b[32m━━━━━━━━━━━━━━━━━━━━\u001b[0m\u001b[37m\u001b[0m \u001b[1m0s\u001b[0m 34ms/step - accuracy: 0.9577 - loss: 0.1660 - val_accuracy: 0.9684 - val_loss: 1.3148\n",
            "Epoch 25/30\n",
            "\u001b[1m12/12\u001b[0m \u001b[32m━━━━━━━━━━━━━━━━━━━━\u001b[0m\u001b[37m\u001b[0m \u001b[1m1s\u001b[0m 30ms/step - accuracy: 0.9679 - loss: 0.1346 - val_accuracy: 0.9684 - val_loss: 0.1619\n",
            "Epoch 26/30\n",
            "\u001b[1m12/12\u001b[0m \u001b[32m━━━━━━━━━━━━━━━━━━━━\u001b[0m\u001b[37m\u001b[0m \u001b[1m1s\u001b[0m 32ms/step - accuracy: 0.9474 - loss: 0.2038 - val_accuracy: 0.9684 - val_loss: 0.1761\n",
            "Epoch 27/30\n",
            "\u001b[1m12/12\u001b[0m \u001b[32m━━━━━━━━━━━━━━━━━━━━\u001b[0m\u001b[37m\u001b[0m \u001b[1m0s\u001b[0m 19ms/step - accuracy: 0.9658 - loss: 0.1419 - val_accuracy: 0.9684 - val_loss: 0.1608\n",
            "Epoch 28/30\n",
            "\u001b[1m12/12\u001b[0m \u001b[32m━━━━━━━━━━━━━━━━━━━━\u001b[0m\u001b[37m\u001b[0m \u001b[1m0s\u001b[0m 19ms/step - accuracy: 0.9557 - loss: 0.1639 - val_accuracy: 0.9684 - val_loss: 0.1615\n",
            "Epoch 29/30\n",
            "\u001b[1m12/12\u001b[0m \u001b[32m━━━━━━━━━━━━━━━━━━━━\u001b[0m\u001b[37m\u001b[0m \u001b[1m0s\u001b[0m 19ms/step - accuracy: 0.9576 - loss: 0.1548 - val_accuracy: 0.9684 - val_loss: 0.1595\n",
            "Epoch 30/30\n",
            "\u001b[1m12/12\u001b[0m \u001b[32m━━━━━━━━━━━━━━━━━━━━\u001b[0m\u001b[37m\u001b[0m \u001b[1m0s\u001b[0m 22ms/step - accuracy: 0.9332 - loss: 0.2401 - val_accuracy: 0.9684 - val_loss: 0.1547\n",
            "\u001b[1m3/3\u001b[0m \u001b[32m━━━━━━━━━━━━━━━━━━━━\u001b[0m\u001b[37m\u001b[0m \u001b[1m0s\u001b[0m 15ms/step - accuracy: 0.9686 - loss: 0.1601\n",
            "\n",
            "Final Model Test Accuracy: 96.84%\n"
          ]
        }
      ]
    },
    {
      "cell_type": "code",
      "source": [
        "# Real-time collision prediction to predict risk for 2 satellites\n",
        "sat1 = satellites[list(satellites.keys())[0]]\n",
        "sat2 = satellites[list(satellites.keys())[1]]\n",
        "\n",
        "trajectory = generate_trajectory_data(sat1, sat2, timesteps)\n",
        "for t in range(timesteps):\n",
        "    trajectory[t, :] = scalers[t].transform(trajectory[t, :].reshape(1, -1))\n",
        "\n",
        "trajectory = np.expand_dims(trajectory, axis=0)  # Add batch dimension\n",
        "collision_prob = model.predict(trajectory)[0][0]\n",
        "print(f\"\\nPredicted Collision Probability: {collision_prob:.4f}\")"
      ],
      "metadata": {
        "id": "zLde02KbN8vi",
        "colab": {
          "base_uri": "https://localhost:8080/"
        },
        "outputId": "18f933c9-79c5-4341-8f50-44401c1a5e67"
      },
      "execution_count": null,
      "outputs": [
        {
          "output_type": "stream",
          "name": "stdout",
          "text": [
            "\u001b[1m1/1\u001b[0m \u001b[32m━━━━━━━━━━━━━━━━━━━━\u001b[0m\u001b[37m\u001b[0m \u001b[1m0s\u001b[0m 323ms/step\n",
            "\n",
            "Predicted Collision Probability: 0.0108\n"
          ]
        }
      ]
    },
    {
      "cell_type": "code",
      "source": [],
      "metadata": {
        "id": "mbr7v8HE9fen"
      },
      "execution_count": null,
      "outputs": []
    }
  ]
}